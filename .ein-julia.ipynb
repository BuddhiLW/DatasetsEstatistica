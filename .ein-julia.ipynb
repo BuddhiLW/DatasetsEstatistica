{
 "cells": [
  {
   "cell_type": "code",
   "execution_count": null,
   "id": "73cbc948",
   "metadata": {
    "collapsed": false
   },
   "outputs": [],
   "source": []
  }
 ],
 "metadata": {
  "kernelspec": {
   "argv": [
    "/usr/bin/julia",
    "-i",
    "--startup-file=yes",
    "--color=yes",
    "--project=@.",
    "/home/buddhilw/.julia/packages/IJulia/a1SNk/src/kernel.jl",
    "{connection_file}"
   ],
   "display_name": "Julia 1.6.2",
   "env": null,
   "interrupt_mode": "signal",
   "language": "julia",
   "metadata": null,
   "name": "julia-1.6"
  },
  "name": "Untitled2.ipynb"
 },
 "nbformat": 4,
 "nbformat_minor": 5
}
